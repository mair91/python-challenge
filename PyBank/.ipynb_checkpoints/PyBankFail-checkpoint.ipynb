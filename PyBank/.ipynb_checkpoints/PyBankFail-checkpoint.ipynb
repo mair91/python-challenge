{
 "cells": [
  {
   "cell_type": "code",
   "execution_count": 1,
   "metadata": {},
   "outputs": [],
   "source": [
    "# Dependencies\n",
    "\n",
    "import os\n",
    "import csv"
   ]
  },
  {
   "cell_type": "code",
   "execution_count": 2,
   "metadata": {},
   "outputs": [],
   "source": [
    "# Specify the file to write to\n",
    "\n",
    "budget_csv = os.path.join(\"Resources\",\"budget_data.csv\")"
   ]
  },
  {
   "cell_type": "code",
   "execution_count": 4,
   "metadata": {},
   "outputs": [
    {
     "ename": "SyntaxError",
     "evalue": "invalid syntax (<ipython-input-4-07b542778cd8>, line 5)",
     "output_type": "error",
     "traceback": [
      "\u001b[0;36m  File \u001b[0;32m\"<ipython-input-4-07b542778cd8>\"\u001b[0;36m, line \u001b[0;32m5\u001b[0m\n\u001b[0;31m    print sum(int(row[1]) for row in csvfile)\u001b[0m\n\u001b[0m            ^\u001b[0m\n\u001b[0;31mSyntaxError\u001b[0m\u001b[0;31m:\u001b[0m invalid syntax\n"
     ]
    }
   ],
   "source": [
    "# Open the file using \"write\" mode. Specify the variable to hold the contents\n",
    "with open(path, 'r') as csvfile:\n",
    "    csvreader = csv.reader(csvfile, delimiter=\",\")\n",
    "    next(csvfile)\n",
    "    print sum(int(row[1]) for row in csvfile)"
   ]
  },
  {
   "cell_type": "code",
   "execution_count": null,
   "metadata": {
    "scrolled": false
   },
   "outputs": [],
   "source": [
    "# Open the file using \"write\" mode. Specify the variable to hold the contents\n",
    "with open(path, 'r') as csvfile:\n",
    "    csvreader = csv.reader(csvfile, delimiter=\",\")\n",
    "    next(csvfile)\n",
    "    nummonth = len(csvfile.readlines())\n",
    "    \n",
    "    increasev = 0\n",
    "    decreasev = 0\n",
    "    net = 0\n",
    "    sums = 0\n",
    "    increased = ''\n",
    "    decreased = ''\n",
    "\n",
    "    \n",
    "    for row in csvreader:\n",
    "        if float(row[1]) > increasev:\n",
    "            net += abs(float(row[1])\n",
    "            sums += float(row[1])\n",
    "            increasev = float(row[1])\n",
    "            increased = row[0]\n",
    "        elif float(row[1]) < decreasev:\n",
    "            net += abs(float(row[1])\n",
    "            sums += float(row[1])\n",
    "            decreasev = float(row[1])\n",
    "            decreased = row[0]\n",
    "        else:\n",
    "            net += abs(float(row[1])\n",
    "            sums += float(row[1])\n",
    "            \n",
    "    print(increasev)\n",
    "    print(increased)\n",
    "    print(decreasev)\n",
    "    print(decreased)\n",
    "    print(sums)\n",
    "    print(net)"
   ]
  },
  {
   "cell_type": "code",
   "execution_count": null,
   "metadata": {},
   "outputs": [],
   "source": []
  },
  {
   "cell_type": "code",
   "execution_count": null,
   "metadata": {},
   "outputs": [],
   "source": []
  },
  {
   "cell_type": "code",
   "execution_count": null,
   "metadata": {},
   "outputs": [],
   "source": []
  }
 ],
 "metadata": {
  "kernelspec": {
   "display_name": "Python [conda env:PythonData] *",
   "language": "python",
   "name": "conda-env-PythonData-py"
  },
  "language_info": {
   "codemirror_mode": {
    "name": "ipython",
    "version": 3
   },
   "file_extension": ".py",
   "mimetype": "text/x-python",
   "name": "python",
   "nbconvert_exporter": "python",
   "pygments_lexer": "ipython3",
   "version": "3.7.7"
  }
 },
 "nbformat": 4,
 "nbformat_minor": 4
}
