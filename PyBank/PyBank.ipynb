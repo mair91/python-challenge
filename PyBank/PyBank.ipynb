{
 "cells": [
  {
   "cell_type": "code",
   "execution_count": null,
   "metadata": {
    "scrolled": false
   },
   "outputs": [],
   "source": [
    "#import modules\n",
    "import csv\n",
    "import os"
   ]
  },
  {
   "cell_type": "code",
   "execution_count": null,
   "metadata": {},
   "outputs": [],
   "source": [
    "# Specify the file to write to\n",
    "budgetpath = os.path.join(\"Resources\", \"budget_data.csv\")"
   ]
  },
  {
   "cell_type": "code",
   "execution_count": null,
   "metadata": {
    "scrolled": false
   },
   "outputs": [],
   "source": [
    "# Open the file. Specify the variable to hold the contents\n",
    "with open(budgetpath, newline=\"\") as csvfile:\n",
    "    csvreader = csv.reader(csvfile, delimiter=\",\")\n",
    "    csvheader = next(csvfile)\n",
    "\n",
    "    ProfitLoss = []\n",
    "    Periods = []\n",
    "    Variation = []\n",
    "    \n",
    "#read each row of file\n",
    "    for rows in csvreader:\n",
    "        ProfitLoss.append(int(rows[1]))\n",
    "        Periods.append(rows[0])\n",
    "\n",
    "    for x in range(1, len(ProfitLoss)):\n",
    "        Variation.append((int(ProfitLoss[x]) - int(ProfitLoss[x-1])))\n",
    "    \n",
    "#calculate average revenue\n",
    "    AveRevenue = sum(Variation) / len(Variation)\n",
    "    \n",
    "#calculate number of months in data\n",
    "    Months = len(Periods)\n",
    "\n",
    "#find greatest increase in profits\n",
    "    GrtIncrease = max(Variation)\n",
    "\n",
    "#find greatest decrease in profits\n",
    "    GrtDecrease = min(Variation)\n",
    "\n",
    "#print stats\n",
    "    print(\"Financial Analysis\")\n",
    "    print(\"----------------------------\")\n",
    "    print(\"Total Months: \" + str(Months))\n",
    "    print(\"Total: $\" + str(sum(ProfitLoss)))\n",
    "    print(\"Average  Change: $\" + str(\"{:.2f}\".format(AveRevenue)))\n",
    "    print(\"Greatest Increase in Profits: \" + str(Periods[Variation.index(max(Variation))+1]) + \" \" + '$(' + str(GrtIncrease) + ')')\n",
    "    print(\"Greatest Decrease in Profits: \" + str(Periods[Variation.index(min(Variation))+1]) + \" \" + '$(' + str(GrtDecrease) + ')')\n",
    "\n",
    "#write to file\n",
    "    output = open(\"Analysis/ProfitLossResults.txt\", \"w\")\n",
    "    output.write(\"Financial Analysis\"+\"\\n\")\n",
    "    output.write(\"----------------------------\"+\"\\n\")\n",
    "    output.write(\"Total Months: \" + str(Months)+\"\\n\")\n",
    "    output.write(\"Total: $\" + str(sum(ProfitLoss))+\"\\n\")\n",
    "    output.write(\"Average  Change: $\" + str(\"{:.2f}\".format(AveRevenue))+\"\\n\")\n",
    "    output.write(\"Greatest Increase in Profits: \" + str(Periods[Variation.index(max(Variation))+1]) + \" \" + '$(' + str(GrtIncrease) + ')'+\"\\n\")\n",
    "    output.write(\"Greatest Decrease in Profits: \" + str(Periods[Variation.index(min(Variation))+1]) + \" \" + '$(' + str(GrtDecrease) + ')'+\"\\n\")\n",
    "    output.close()"
   ]
  },
  {
   "cell_type": "code",
   "execution_count": null,
   "metadata": {},
   "outputs": [],
   "source": []
  },
  {
   "cell_type": "code",
   "execution_count": null,
   "metadata": {},
   "outputs": [],
   "source": []
  }
 ],
 "metadata": {
  "kernelspec": {
   "display_name": "Python [conda env:PythonData] *",
   "language": "python",
   "name": "conda-env-PythonData-py"
  },
  "language_info": {
   "codemirror_mode": {
    "name": "ipython",
    "version": 3
   },
   "file_extension": ".py",
   "mimetype": "text/x-python",
   "name": "python",
   "nbconvert_exporter": "python",
   "pygments_lexer": "ipython3",
   "version": "3.7.7"
  }
 },
 "nbformat": 4,
 "nbformat_minor": 4
}
