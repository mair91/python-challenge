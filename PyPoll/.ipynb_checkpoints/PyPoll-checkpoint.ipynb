{
 "cells": [
  {
   "cell_type": "code",
   "execution_count": null,
   "metadata": {},
   "outputs": [],
   "source": [
    "#import modules\n",
    "import csv\n",
    "import os"
   ]
  },
  {
   "cell_type": "code",
   "execution_count": null,
   "metadata": {},
   "outputs": [],
   "source": [
    "# Specify the file to write to\n",
    "pollpath = os.path.join(\"Resources\", \"election_data.csv\")"
   ]
  },
  {
   "cell_type": "code",
   "execution_count": null,
   "metadata": {},
   "outputs": [],
   "source": [
    "#Create variable to count number of votes\n",
    "#Create lists to return data from candidates, number of votes and percentage of votes\n",
    "countVotes = 0\n",
    "cand = []\n",
    "votesNum = []\n",
    "votesPerc = []"
   ]
  },
  {
   "cell_type": "code",
   "execution_count": null,
   "metadata": {},
   "outputs": [],
   "source": [
    "with open(pollpath, newline = \"\") as csvfile:\n",
    "    csvreader = csv.reader(csvfile, delimiter = \",\")\n",
    "    csv_header = next(csvreader)\n",
    "\n",
    "    for row in csvreader:\n",
    "        countVotes += 1 \n",
    "        if row[2] not in cand:\n",
    "            cand.append(row[2])\n",
    "            index = cand.index(row[2])\n",
    "            votesNum.append(1)\n",
    "        else:\n",
    "            votesNum[cand.index(row[2])] += 1\n",
    "\n",
    "    for row in votesNum:\n",
    "        calc = round((100*(row/countVotes)))\n",
    "        votesPerc.append(calc)\n",
    "\n",
    "    winCand = cand[votesNum.index(max(votesNum))]"
   ]
  },
  {
   "cell_type": "code",
   "execution_count": null,
   "metadata": {
    "scrolled": true
   },
   "outputs": [],
   "source": [
    "#print results\n",
    "print(\"Election Results\")\n",
    "print(\"-------------------------\")\n",
    "print(\"Total Votes: \" + str(countVotes))\n",
    "print(\"-------------------------\")\n",
    "for x in range(len(cand)):\n",
    "    print(str(cand[x])+\": \"+\"{:.3%}\".format(votesPerc[x]/100)+\" (\"+str(votesNum[x])+\")\")\n",
    "print(\"-------------------------\")\n",
    "print(\"Winner: \"+ str(winCand))\n",
    "print(\"-------------------------\")\n"
   ]
  },
  {
   "cell_type": "code",
   "execution_count": null,
   "metadata": {},
   "outputs": [],
   "source": [
    "#write to file\n",
    "output = open(\"Analysis/ElectionResults.txt\", \"w\")\n",
    "output.write(\"Election Results\"+\"\\n\")\n",
    "output.write(\"-------------------------\"+\"\\n\")\n",
    "output.write(\"Total Votes: \" + str(countVotes)+\"\\n\")\n",
    "output.write(\"-------------------------\"+\"\\n\")\n",
    "for x in range(len(cand)):\n",
    "    output.write(str(cand[x])+\": \"+\"{:.3%}\".format(votesPerc[x]/100)+\" (\"+str(votesNum[x])+\")\"+\"\\n\")\n",
    "output.write(\"-------------------------\"+\"\\n\")\n",
    "output.write(\"Winner: \"+ str(winCand)+\"\\n\")\n",
    "output.write(\"-------------------------\"+\"\\n\")\n",
    "output.close()"
   ]
  },
  {
   "cell_type": "code",
   "execution_count": null,
   "metadata": {},
   "outputs": [],
   "source": [
    "\n"
   ]
  }
 ],
 "metadata": {
  "kernelspec": {
   "display_name": "Python [conda env:PythonData] *",
   "language": "python",
   "name": "conda-env-PythonData-py"
  },
  "language_info": {
   "codemirror_mode": {
    "name": "ipython",
    "version": 3
   },
   "file_extension": ".py",
   "mimetype": "text/x-python",
   "name": "python",
   "nbconvert_exporter": "python",
   "pygments_lexer": "ipython3",
   "version": "3.7.7"
  }
 },
 "nbformat": 4,
 "nbformat_minor": 4
}
